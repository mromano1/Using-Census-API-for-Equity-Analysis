{
 "cells": [
  {
   "cell_type": "markdown",
   "metadata": {},
   "source": [
    "# Using Census APIs for Equity Analysis\n",
    "\n",
    "This workshop will demonstrate how to use US Decennial Census and American Community Survey Data (ACS) Application Programming Interfaces (APIs). We will use these basic operations in order to calculate and map poverty rates in New York State. (A similiar script can be applied to calculate ethnicity, gender, mobility, and journey to work, but will not be covered here).  We will pull data from the [ACS 5-year estimates for 2020](https://www.census.gov/data/developers/data-sets/acs-5year.html) for this workshop.\n",
    "\n",
    "Prerequisites:\n",
    "1. Anaconda 3 installed\n",
    "2. Knowledge of Jupyter Notebook\n",
    "3. Knowledge of Python\n",
    "4. Knowledge of how to install GeoPandas\n",
    "5. Knowledge of how to perform pip installations\n",
    "\n",
    "NOTE:  The cool thing about using APIs is, once this script is developed, the data should remain current with each use--no need to update the links to the API!"
   ]
  },
  {
   "cell_type": "markdown",
   "metadata": {},
   "source": [
    "## Step 1: Import the modules you will need\n",
    "\n",
    "If you don't have geopandas installed, then the code below will not run:\n",
    "\n",
    "For help, try this article: [\"Fastest way to install Geopandas in jupyter notebook on Windows\"](https://medium.com/analytics-vidhya/fastest-way-to-install-geopandas-in-jupyter-notebook-on-windows-8f734e11fa2b), by Tanish Gupta\n",
    "\n",
    "If that doesn't work, then try installing python 3.9 and creating a new virtual environment in the Anaconda prompt:\n",
    "\n",
    "1. Type in “<span style=\"color:red\">conda create –name py39 python=3.9</span>” in the Anaconda Prompt and hit enter. Py39 is the virtual environment name. \n",
    "2. If that works, then type in “<span style=\"color:red\">activate py39</span>” and press Enter. \n",
    "3. Then type in “<span style=\"color:red\">conda install geopandas</span>” and hit enter. \n",
    "\n",
    "Also, you will need to perform a pip install for <span style=\"color:red\">census</span>, <span style=\"color:red\">us</span>, and <span style=\"color:red\">PyGithub</span> to use those libraries\n",
    "\n",
    "And make sure you have the latest shapely library installed.  If not, you will need to upgrade it (<span style=\"color:red\">conda install shapely</span>)"
   ]
  },
  {
   "cell_type": "code",
   "execution_count": 1,
   "metadata": {
    "scrolled": true
   },
   "outputs": [],
   "source": [
    "#import modules\n",
    "import matplotlib.pyplot as plt # plotting tool\n",
    "import pandas as pd # data analysis and manipulation tool\n",
    "import geopandas as gpd # extends the datatypes used by pandas to allow spatial operations on geometric types\n",
    "from shapely.geometry import Polygon # for geometric operations\n",
    "from census import Census # library for accessing census tables\n",
    "from us import states # library for accessing the FIPS codes for many geographies\n",
    "import fiona # for file access \n",
    "import base64 # provides functions for encoding/decoding binary data to printable ASCII\n",
    "from github.MainClass import Github, GithubIntegration # main class to access the Github API v3\n",
    "from github.InputGitTreeElement import InputGitTreeElement # This class represents InputGitTreeElements(path, mode, type, content, sha)\n",
    "import os #  provides functions for interacting with the underlying operating system"
   ]
  },
  {
   "cell_type": "code",
   "execution_count": 2,
   "metadata": {},
   "outputs": [],
   "source": [
    "# You can ignore this, but if you want to see a list of all spatial data types that are supported, just remove the hashtag\n",
    "# fiona.supported_drivers"
   ]
  },
  {
   "cell_type": "code",
   "execution_count": 3,
   "metadata": {},
   "outputs": [],
   "source": [
    "# pip install PyGithub"
   ]
  },
  {
   "cell_type": "code",
   "execution_count": 4,
   "metadata": {},
   "outputs": [],
   "source": [
    "# pip install census"
   ]
  },
  {
   "cell_type": "code",
   "execution_count": 5,
   "metadata": {},
   "outputs": [],
   "source": [
    "# pip install us"
   ]
  },
  {
   "cell_type": "markdown",
   "metadata": {},
   "source": [
    "## Step 2: Import data from Census\n",
    "\n",
    "Importing data from the Census APIs into Python requires a [Census API key](http://api.census.gov/data/key_signup.html).  It will provide you with a unique 40 digit text string. <u><i><b>Please keep track of this number</b></i></u>.   The [Census API User Guide](https://www.census.gov/content/dam/Census/data/developers/api-user-guide/api-guide.pdf) can give you some more information on how to use this API to query the data.\n",
    "\n",
    "You can register for an API key, free of charge by following these steps:\n",
    "1. Go to the [Census API key](http://api.census.gov/data/key_signup.html) site\n",
    "2. Fill out the pop-up window form.\n",
    "4. You will receive an email with your key code in the message and a link to register it.\n",
    "\n",
    "### <span style=\"color:green\">NOTE: Keep your API key private!  I used mine to test my script, but I've removed it from below.</span>"
   ]
  },
  {
   "cell_type": "code",
   "execution_count": 6,
   "metadata": {},
   "outputs": [],
   "source": [
    "# Set API key\n",
    "c = Census(\"Enter your 40 digit text string here\")"
   ]
  },
  {
   "cell_type": "markdown",
   "metadata": {},
   "source": [
    "Now access the census data at the tract level for New York State from the 2020 ACS.  The tables you are looking for are the ratio of income to poverty in the past 12 months <b>(C17002_001E, total; C17002_002E, < 0.50; and C17002_003E, 0.50 - 0.99)</b> variables and total population <b>(B01003_001E)</b>. For more information on why these variables are used, refer to the US Census Bureau’s article on [How the Census Bureau measures poverty](https://www.census.gov/topics/income-poverty/poverty/guidance/poverty-measures.html) and [the 2020 list of variables found in ACS](https://api.census.gov/data/2020/acs/acs5/variables.html).\n",
    "\n",
    "The <span style=\"color:red\">census</span> package provides us with methods to obtain geographic data through an FIPS code (36 for New York).  We can also use the <span style=\"color:red\">us</span> library to help us figure out the relevant FIPS code if we want to analyze other geographies.  Note that we are using the 2020 ACS to access data from 2019."
   ]
  },
  {
   "cell_type": "code",
   "execution_count": 7,
   "metadata": {},
   "outputs": [],
   "source": [
    "# Obtain Census variables from the 2020 ACS at the tract level for the State of New York (FIPS code: 36)\n",
    "# C17002_001E: count of ratio of income to poverty in the past 12 months (total)\n",
    "# C17002_002E: count of ratio of income to poverty in the past 12 months (< 0.50)\n",
    "# C17002_003E: count of ratio of income to poverty in the past 12 months (0.50 - 0.99)\n",
    "# B01003_001E: total population\n",
    "# Sources: https://api.census.gov/data/2020/acs/acs5/variables.html; https://pypi.org/project/census/\n",
    "ny_census = c.acs5.state_county_tract(fields = ('NAME', 'C17002_001E', 'C17002_002E', 'C17002_003E', 'B01003_001E'),\n",
    "                                      state_fips = states.NY.fips,\n",
    "                                      county_fips = \"*\",\n",
    "                                      tract = \"*\",\n",
    "                                      year = 2019)"
   ]
  },
  {
   "cell_type": "markdown",
   "metadata": {},
   "source": [
    "Now that we have accessed the data and assigned it to a variable, we can read the data into a dataframe using the pandas library.  This is NOT the geodataframe.  That comes later."
   ]
  },
  {
   "cell_type": "code",
   "execution_count": 8,
   "metadata": {},
   "outputs": [
    {
     "name": "stdout",
     "output_type": "stream",
     "text": [
      "                                             NAME  C17002_001E  C17002_002E  \\\n",
      "0      Census Tract 55, Onondaga County, New York       3542.0        912.0   \n",
      "1   Census Tract 56.01, Onondaga County, New York       1569.0         71.0   \n",
      "2   Census Tract 61.02, Onondaga County, New York       1842.0        253.0   \n",
      "3  Census Tract 112.01, Onondaga County, New York       3844.0        147.0   \n",
      "4   Census Tract 56.02, Onondaga County, New York        198.0         76.0   \n",
      "\n",
      "   C17002_003E  B01003_001E state county   tract  \n",
      "0        400.0       3563.0    36    067  005500  \n",
      "1         46.0       1599.0    36    067  005601  \n",
      "2        336.0       1842.0    36    067  006102  \n",
      "3        249.0       3844.0    36    067  011201  \n",
      "4         68.0       3950.0    36    067  005602  \n",
      "Shape:  (4918, 8)\n"
     ]
    }
   ],
   "source": [
    "# Create a dataframe from the census data\n",
    "ny_df = pd.DataFrame(ny_census)\n",
    "\n",
    "# Show the dataframe\n",
    "print(ny_df.head(5))\n",
    "print('Shape: ', ny_df.shape)"
   ]
  },
  {
   "cell_type": "markdown",
   "metadata": {},
   "source": [
    "### By showing the dataframe, we can see that there are 4918 rows (i.e. 4918 census tracts) and 8 columns.\n",
    "\n",
    "\n",
    "## Step 3: Import Shapefile\n",
    "\n",
    "Let’s also read into Python a 2019 shapefile (so that the number of rows match) of the New York census tracts.  This shapefile can be downloaded on the Census Bureau’s website on the [Cartographic Boundary Files page](https://www.census.gov/geographies/mapping-files/time-series/geo/cartographic-boundary.html) or the [TIGER/Line Shapefiles page](https://www.census.gov/geographies/mapping-files/time-series/geo/tiger-line-file.html).)  However, we are just going to access it from where it lives on the web. \n",
    "\n",
    "We're also going to reproject the spatial data into the UTM Zone 18N (also known as EPSG 32618) projection (because this will allow us to project the entire state of New York, instead of just a particular section). \n",
    "\n",
    "After that, it's time to create a geodataframe to hold this data.  To make sure we've done this right, you're going to print the headers and the first 5 rows, as well as the data projection, as the output of this cell."
   ]
  },
  {
   "cell_type": "code",
   "execution_count": 9,
   "metadata": {
    "scrolled": false
   },
   "outputs": [
    {
     "name": "stdout",
     "output_type": "stream",
     "text": [
      "  STATEFP COUNTYFP TRACTCE        GEOID NAME          NAMELSAD  MTFCC  \\\n",
      "0      36      081  044800  36081044800  448  Census Tract 448  G5020   \n",
      "1      36      081  045800  36081045800  458  Census Tract 458  G5020   \n",
      "2      36      081  046200  36081046200  462  Census Tract 462  G5020   \n",
      "3      36      081  046300  36081046300  463  Census Tract 463  G5020   \n",
      "4      36      081  046400  36081046400  464  Census Tract 464  G5020   \n",
      "\n",
      "  FUNCSTAT   ALAND  AWATER     INTPTLAT      INTPTLON  \\\n",
      "0        S  208002       0  +40.7110219  -073.8026344   \n",
      "1        S  245281       0  +40.7152626  -073.7909261   \n",
      "2        S  249611       0  +40.7098547  -073.7879749   \n",
      "3        S  159415       0  +40.7440007  -073.8710900   \n",
      "4        S  228767       0  +40.7168637  -073.7869958   \n",
      "\n",
      "                                            geometry  \n",
      "0  POLYGON ((600815.465 4507478.308, 600891.234 4...  \n",
      "1  POLYGON ((601895.758 4507688.811, 601896.787 4...  \n",
      "2  POLYGON ((602035.695 4507385.405, 602120.876 4...  \n",
      "3  POLYGON ((595007.788 4510875.986, 595045.678 4...  \n",
      "4  POLYGON ((602044.882 4507687.974, 602130.773 4...  \n",
      "Shape:  (4918, 13)\n",
      "\n",
      "The shapefile projection is: epsg:32618\n"
     ]
    }
   ],
   "source": [
    "# Access shapefile of New York census tracts\n",
    "ny_tract = gpd.read_file(\"https://www2.census.gov/geo/tiger/TIGER2019/TRACT/tl_2019_36_tract.zip\")\n",
    "\n",
    "# Reproject shapefile to UTM Zone 18N\n",
    "# https://spatialreference.org/ref/epsg/wgs-84-utm-zone-18n/\n",
    "ny_tract = ny_tract.to_crs(epsg = 32618)\n",
    "\n",
    "# Print GeoDataFrame of shapefile\n",
    "print(ny_tract.head(5))\n",
    "print('Shape: ', ny_tract.shape)\n",
    "\n",
    "# Check shapefile projection\n",
    "print(\"\\nThe shapefile projection is: {}\".format(ny_tract.crs))"
   ]
  },
  {
   "cell_type": "markdown",
   "metadata": {},
   "source": [
    "We can see that the shapefile also has 4918 rows (4918 tracts). This number matches with the number of census records that we have on file, which means we are using the correct file and will have a one-to-one match for our rows (hopefully).\n",
    "\n",
    "Right now the census data and the census tracts that correspond with that data are stored in two separate variables (<span style=\"color:red\">ny_df</span> and <span style=\"color:red\">ny_tract</span>). That makes it a bit difficult to map since these two separate datasets aren’t connected to each other.  That means our next task will be to join the two datasets together.\n",
    "\n",
    "\n",
    "## Step 4: Create new column from old columns to get combined FIPS code\n",
    "\n",
    "We can join the two dataframes together via a field or column that is common to both dataframes, which is referred to as a key.\n",
    "\n",
    "Looking at the two datasets above, it appears that the GEOID column from ny_tract and the state, county, and tract columns combined from ny_df could serve as the unique key for joining these two dataframes together. In their current forms, this join will not be successful, as we’ll need to merge the state, county, and tract columns from ny_df together to make it parallel to the GEOID column from ny_tract. We can simply add the columns together, much like math or the basic operators in Python, and assign the “sum” to a new column.\n",
    "\n",
    "To create a new column–or call an existing column in a dataframe–we can use indexing with <b>[]</b> and the column name (string). You can also access columns using the index number (which we are not doing here), but you can read more about indexing and selecting data [in the pandas documentation](https://pandas.pydata.org/pandas-docs/stable/user_guide/indexing.html).)"
   ]
  },
  {
   "cell_type": "code",
   "execution_count": 10,
   "metadata": {},
   "outputs": [],
   "source": [
    "# Combine state, county, and tract columns together to create a new string and assign to new column\n",
    "ny_df[\"GEOID\"] = ny_df[\"state\"] + ny_df[\"county\"] + ny_df[\"tract\"]"
   ]
  },
  {
   "cell_type": "markdown",
   "metadata": {},
   "source": [
    "Printing out the first rew rows of the dataframe, we can see that the new column GEOID has been created with the values from the three columns combined."
   ]
  },
  {
   "cell_type": "code",
   "execution_count": 11,
   "metadata": {},
   "outputs": [
    {
     "data": {
      "text/html": [
       "<div>\n",
       "<style scoped>\n",
       "    .dataframe tbody tr th:only-of-type {\n",
       "        vertical-align: middle;\n",
       "    }\n",
       "\n",
       "    .dataframe tbody tr th {\n",
       "        vertical-align: top;\n",
       "    }\n",
       "\n",
       "    .dataframe thead th {\n",
       "        text-align: right;\n",
       "    }\n",
       "</style>\n",
       "<table border=\"1\" class=\"dataframe\">\n",
       "  <thead>\n",
       "    <tr style=\"text-align: right;\">\n",
       "      <th></th>\n",
       "      <th>NAME</th>\n",
       "      <th>C17002_001E</th>\n",
       "      <th>C17002_002E</th>\n",
       "      <th>C17002_003E</th>\n",
       "      <th>B01003_001E</th>\n",
       "      <th>state</th>\n",
       "      <th>county</th>\n",
       "      <th>tract</th>\n",
       "      <th>GEOID</th>\n",
       "    </tr>\n",
       "  </thead>\n",
       "  <tbody>\n",
       "    <tr>\n",
       "      <th>0</th>\n",
       "      <td>Census Tract 55, Onondaga County, New York</td>\n",
       "      <td>3542.0</td>\n",
       "      <td>912.0</td>\n",
       "      <td>400.0</td>\n",
       "      <td>3563.0</td>\n",
       "      <td>36</td>\n",
       "      <td>067</td>\n",
       "      <td>005500</td>\n",
       "      <td>36067005500</td>\n",
       "    </tr>\n",
       "    <tr>\n",
       "      <th>1</th>\n",
       "      <td>Census Tract 56.01, Onondaga County, New York</td>\n",
       "      <td>1569.0</td>\n",
       "      <td>71.0</td>\n",
       "      <td>46.0</td>\n",
       "      <td>1599.0</td>\n",
       "      <td>36</td>\n",
       "      <td>067</td>\n",
       "      <td>005601</td>\n",
       "      <td>36067005601</td>\n",
       "    </tr>\n",
       "    <tr>\n",
       "      <th>2</th>\n",
       "      <td>Census Tract 61.02, Onondaga County, New York</td>\n",
       "      <td>1842.0</td>\n",
       "      <td>253.0</td>\n",
       "      <td>336.0</td>\n",
       "      <td>1842.0</td>\n",
       "      <td>36</td>\n",
       "      <td>067</td>\n",
       "      <td>006102</td>\n",
       "      <td>36067006102</td>\n",
       "    </tr>\n",
       "    <tr>\n",
       "      <th>3</th>\n",
       "      <td>Census Tract 112.01, Onondaga County, New York</td>\n",
       "      <td>3844.0</td>\n",
       "      <td>147.0</td>\n",
       "      <td>249.0</td>\n",
       "      <td>3844.0</td>\n",
       "      <td>36</td>\n",
       "      <td>067</td>\n",
       "      <td>011201</td>\n",
       "      <td>36067011201</td>\n",
       "    </tr>\n",
       "    <tr>\n",
       "      <th>4</th>\n",
       "      <td>Census Tract 56.02, Onondaga County, New York</td>\n",
       "      <td>198.0</td>\n",
       "      <td>76.0</td>\n",
       "      <td>68.0</td>\n",
       "      <td>3950.0</td>\n",
       "      <td>36</td>\n",
       "      <td>067</td>\n",
       "      <td>005602</td>\n",
       "      <td>36067005602</td>\n",
       "    </tr>\n",
       "  </tbody>\n",
       "</table>\n",
       "</div>"
      ],
      "text/plain": [
       "                                             NAME  C17002_001E  C17002_002E  \\\n",
       "0      Census Tract 55, Onondaga County, New York       3542.0        912.0   \n",
       "1   Census Tract 56.01, Onondaga County, New York       1569.0         71.0   \n",
       "2   Census Tract 61.02, Onondaga County, New York       1842.0        253.0   \n",
       "3  Census Tract 112.01, Onondaga County, New York       3844.0        147.0   \n",
       "4   Census Tract 56.02, Onondaga County, New York        198.0         76.0   \n",
       "\n",
       "   C17002_003E  B01003_001E state county   tract        GEOID  \n",
       "0        400.0       3563.0    36    067  005500  36067005500  \n",
       "1         46.0       1599.0    36    067  005601  36067005601  \n",
       "2        336.0       1842.0    36    067  006102  36067006102  \n",
       "3        249.0       3844.0    36    067  011201  36067011201  \n",
       "4         68.0       3950.0    36    067  005602  36067005602  "
      ]
     },
     "execution_count": 11,
     "metadata": {},
     "output_type": "execute_result"
    }
   ],
   "source": [
    "# Print head of dataframe\n",
    "ny_df.head(5)"
   ]
  },
  {
   "cell_type": "markdown",
   "metadata": {},
   "source": [
    "## Step 5: Remove dataframe columns that are no longer needed\n",
    "\n",
    "To reduce clutter, we can delete the <span style=\"color:red\">state</span>, <span style=\"color:red\">county</span>, and <span style=\"color:red\">tract</span> columns from <span style=\"color:red\">ny_df</span> since we don’t need them anymore. Remember that when we want to modify a dataframe, we must assign the modified dataframe back to the original variable (or a new one, if preferred). Otherwise, any modifications won’t be saved. An alternative to assigning the dataframe back to the variable is to simply pass <span style=\"color:red\">inplace = True</span>. For more information, see the [pandas help documentation on drop](https://pandas.pydata.org/docs/reference/api/pandas.DataFrame.drop.html)."
   ]
  },
  {
   "cell_type": "code",
   "execution_count": 12,
   "metadata": {},
   "outputs": [
    {
     "data": {
      "text/html": [
       "<div>\n",
       "<style scoped>\n",
       "    .dataframe tbody tr th:only-of-type {\n",
       "        vertical-align: middle;\n",
       "    }\n",
       "\n",
       "    .dataframe tbody tr th {\n",
       "        vertical-align: top;\n",
       "    }\n",
       "\n",
       "    .dataframe thead th {\n",
       "        text-align: right;\n",
       "    }\n",
       "</style>\n",
       "<table border=\"1\" class=\"dataframe\">\n",
       "  <thead>\n",
       "    <tr style=\"text-align: right;\">\n",
       "      <th></th>\n",
       "      <th>NAME</th>\n",
       "      <th>C17002_001E</th>\n",
       "      <th>C17002_002E</th>\n",
       "      <th>C17002_003E</th>\n",
       "      <th>B01003_001E</th>\n",
       "      <th>GEOID</th>\n",
       "    </tr>\n",
       "  </thead>\n",
       "  <tbody>\n",
       "    <tr>\n",
       "      <th>0</th>\n",
       "      <td>Census Tract 55, Onondaga County, New York</td>\n",
       "      <td>3542.0</td>\n",
       "      <td>912.0</td>\n",
       "      <td>400.0</td>\n",
       "      <td>3563.0</td>\n",
       "      <td>36067005500</td>\n",
       "    </tr>\n",
       "    <tr>\n",
       "      <th>1</th>\n",
       "      <td>Census Tract 56.01, Onondaga County, New York</td>\n",
       "      <td>1569.0</td>\n",
       "      <td>71.0</td>\n",
       "      <td>46.0</td>\n",
       "      <td>1599.0</td>\n",
       "      <td>36067005601</td>\n",
       "    </tr>\n",
       "    <tr>\n",
       "      <th>2</th>\n",
       "      <td>Census Tract 61.02, Onondaga County, New York</td>\n",
       "      <td>1842.0</td>\n",
       "      <td>253.0</td>\n",
       "      <td>336.0</td>\n",
       "      <td>1842.0</td>\n",
       "      <td>36067006102</td>\n",
       "    </tr>\n",
       "    <tr>\n",
       "      <th>3</th>\n",
       "      <td>Census Tract 112.01, Onondaga County, New York</td>\n",
       "      <td>3844.0</td>\n",
       "      <td>147.0</td>\n",
       "      <td>249.0</td>\n",
       "      <td>3844.0</td>\n",
       "      <td>36067011201</td>\n",
       "    </tr>\n",
       "    <tr>\n",
       "      <th>4</th>\n",
       "      <td>Census Tract 56.02, Onondaga County, New York</td>\n",
       "      <td>198.0</td>\n",
       "      <td>76.0</td>\n",
       "      <td>68.0</td>\n",
       "      <td>3950.0</td>\n",
       "      <td>36067005602</td>\n",
       "    </tr>\n",
       "  </tbody>\n",
       "</table>\n",
       "</div>"
      ],
      "text/plain": [
       "                                             NAME  C17002_001E  C17002_002E  \\\n",
       "0      Census Tract 55, Onondaga County, New York       3542.0        912.0   \n",
       "1   Census Tract 56.01, Onondaga County, New York       1569.0         71.0   \n",
       "2   Census Tract 61.02, Onondaga County, New York       1842.0        253.0   \n",
       "3  Census Tract 112.01, Onondaga County, New York       3844.0        147.0   \n",
       "4   Census Tract 56.02, Onondaga County, New York        198.0         76.0   \n",
       "\n",
       "   C17002_003E  B01003_001E        GEOID  \n",
       "0        400.0       3563.0  36067005500  \n",
       "1         46.0       1599.0  36067005601  \n",
       "2        336.0       1842.0  36067006102  \n",
       "3        249.0       3844.0  36067011201  \n",
       "4         68.0       3950.0  36067005602  "
      ]
     },
     "execution_count": 12,
     "metadata": {},
     "output_type": "execute_result"
    }
   ],
   "source": [
    "# Remove columns\n",
    "ny_df = ny_df.drop(columns = [\"state\", \"county\", \"tract\"])\n",
    "\n",
    "# Show updated dataframe\n",
    "ny_df.head(5)"
   ]
  },
  {
   "cell_type": "markdown",
   "metadata": {},
   "source": [
    "## Step 6: Check column data types\n",
    "\n",
    "The key in both dataframe must be of the same data type. Let’s check the data type of the <span style=\"color:red\">GEOID</span> columns in both dataframes. If they aren’t the same, we will have to change the data type of columns to make them the same."
   ]
  },
  {
   "cell_type": "code",
   "execution_count": 13,
   "metadata": {},
   "outputs": [
    {
     "name": "stdout",
     "output_type": "stream",
     "text": [
      "Column data types for census data:\n",
      "NAME            object\n",
      "C17002_001E    float64\n",
      "C17002_002E    float64\n",
      "C17002_003E    float64\n",
      "B01003_001E    float64\n",
      "GEOID           object\n",
      "dtype: object\n",
      "\n",
      "Column data types for census shapefile:\n",
      "STATEFP       object\n",
      "COUNTYFP      object\n",
      "TRACTCE       object\n",
      "GEOID         object\n",
      "NAME          object\n",
      "NAMELSAD      object\n",
      "MTFCC         object\n",
      "FUNCSTAT      object\n",
      "ALAND          int64\n",
      "AWATER         int64\n",
      "INTPTLAT      object\n",
      "INTPTLON      object\n",
      "geometry    geometry\n",
      "dtype: object\n"
     ]
    }
   ],
   "source": [
    "# Check column data types for census data\n",
    "print(\"Column data types for census data:\\n{}\".format(ny_df.dtypes))\n",
    "\n",
    "# Check column data types for census shapefile\n",
    "print(\"\\nColumn data types for census shapefile:\\n{}\".format(ny_tract.dtypes))\n",
    "\n",
    "# Source: https://pandas.pydata.org/pandas-docs/stable/reference/api/pandas.DataFrame.dtypes.html"
   ]
  },
  {
   "cell_type": "markdown",
   "metadata": {},
   "source": [
    "Looks like the <span style=\"color:red\">GEOID</span> columns are the same!\n",
    "\n",
    "## Step 7: Merge dataframes\n",
    "\n",
    "Now, we are ready to merge the two dataframes together, using the <span style=\"color:red\">GEOID</span> columns as the primary key. We can use the <span style=\"color:red\">merge</span> method in <span style=\"color:red\">GeoPandas</span> called on the <span style=\"color:red\">ny_tract</span> shapefile dataset."
   ]
  },
  {
   "cell_type": "code",
   "execution_count": 14,
   "metadata": {},
   "outputs": [
    {
     "name": "stdout",
     "output_type": "stream",
     "text": [
      "  STATEFP COUNTYFP TRACTCE        GEOID NAME_x          NAMELSAD  MTFCC  \\\n",
      "0      36      081  044800  36081044800    448  Census Tract 448  G5020   \n",
      "1      36      081  045800  36081045800    458  Census Tract 458  G5020   \n",
      "2      36      081  046200  36081046200    462  Census Tract 462  G5020   \n",
      "3      36      081  046300  36081046300    463  Census Tract 463  G5020   \n",
      "4      36      081  046400  36081046400    464  Census Tract 464  G5020   \n",
      "\n",
      "  FUNCSTAT   ALAND  AWATER     INTPTLAT      INTPTLON  \\\n",
      "0        S  208002       0  +40.7110219  -073.8026344   \n",
      "1        S  245281       0  +40.7152626  -073.7909261   \n",
      "2        S  249611       0  +40.7098547  -073.7879749   \n",
      "3        S  159415       0  +40.7440007  -073.8710900   \n",
      "4        S  228767       0  +40.7168637  -073.7869958   \n",
      "\n",
      "                                            geometry  \\\n",
      "0  POLYGON ((600815.465 4507478.308, 600891.234 4...   \n",
      "1  POLYGON ((601895.758 4507688.811, 601896.787 4...   \n",
      "2  POLYGON ((602035.695 4507385.405, 602120.876 4...   \n",
      "3  POLYGON ((595007.788 4510875.986, 595045.678 4...   \n",
      "4  POLYGON ((602044.882 4507687.974, 602130.773 4...   \n",
      "\n",
      "                                      NAME_y  C17002_001E  C17002_002E  \\\n",
      "0  Census Tract 448, Queens County, New York       2796.0         49.0   \n",
      "1  Census Tract 458, Queens County, New York       2348.0         59.0   \n",
      "2  Census Tract 462, Queens County, New York       6589.0        356.0   \n",
      "3  Census Tract 463, Queens County, New York       3828.0        231.0   \n",
      "4  Census Tract 464, Queens County, New York       1630.0         52.0   \n",
      "\n",
      "   C17002_003E  B01003_001E  \n",
      "0        696.0       2809.0  \n",
      "1         70.0       2348.0  \n",
      "2        249.0       6907.0  \n",
      "3        235.0       3836.0  \n",
      "4         92.0       1999.0  \n",
      "Shape:  (4918, 18)\n"
     ]
    }
   ],
   "source": [
    "# Join the attributes of the dataframes together\n",
    "# Source: https://geopandas.org/docs/user_guide/mergingdata.html\n",
    "ny_merge = ny_tract.merge(ny_df, on = \"GEOID\")\n",
    "\n",
    "# Show result\n",
    "print(ny_merge.head(5))\n",
    "print('Shape: ', ny_merge.shape)"
   ]
  },
  {
   "cell_type": "markdown",
   "metadata": {},
   "source": [
    "We still have 4918 rows, which means that all rows (or most of them) were successfully matched! Notice how the census data has been added on after the shapefile data in the dataframe.\n",
    "\n",
    "Some additional notes about joining dataframes:\n",
    "\n",
    "- the columns for the key do not need to have the same name.\n",
    "- for this join, we had a one-to-one relationship, meaning one attribute in one dataframe matched to one (and only one) attribute in the other dataframe. Joins with a many-to-one, one-to-many, or many-to-many relationship are also possible, but in some cases, they require some special considerations. See this [Esri ArcGIS help documentation on joins and relates for more information](https://desktop.arcgis.com/en/arcmap/10.3/manage-data/tables/about-joining-and-relating-tables.htm).\n",
    "\n",
    "## Step 8: Subset dataframe\n",
    "\n",
    "Now that we merged the dataframes together, we can further clean up the dataframe and remove columns that are not needed. Instead of using the <span style=\"color:red\">drop</span> method, we can simply select the columns we want to keep and create a new dataframe with those selected columns."
   ]
  },
  {
   "cell_type": "code",
   "execution_count": 15,
   "metadata": {},
   "outputs": [
    {
     "name": "stdout",
     "output_type": "stream",
     "text": [
      "  STATEFP COUNTYFP TRACTCE        GEOID  \\\n",
      "0      36      081  044800  36081044800   \n",
      "1      36      081  045800  36081045800   \n",
      "2      36      081  046200  36081046200   \n",
      "3      36      081  046300  36081046300   \n",
      "4      36      081  046400  36081046400   \n",
      "\n",
      "                                            geometry  C17002_001E  \\\n",
      "0  POLYGON ((600815.465 4507478.308, 600891.234 4...       2796.0   \n",
      "1  POLYGON ((601895.758 4507688.811, 601896.787 4...       2348.0   \n",
      "2  POLYGON ((602035.695 4507385.405, 602120.876 4...       6589.0   \n",
      "3  POLYGON ((595007.788 4510875.986, 595045.678 4...       3828.0   \n",
      "4  POLYGON ((602044.882 4507687.974, 602130.773 4...       1630.0   \n",
      "\n",
      "   C17002_002E  C17002_003E  B01003_001E  \n",
      "0         49.0        696.0       2809.0  \n",
      "1         59.0         70.0       2348.0  \n",
      "2        356.0        249.0       6907.0  \n",
      "3        231.0        235.0       3836.0  \n",
      "4         52.0         92.0       1999.0  \n",
      "Shape:  (4918, 9)\n"
     ]
    }
   ],
   "source": [
    "# Create new dataframe from select columns\n",
    "ny_poverty_tract = ny_merge[[\"STATEFP\", \"COUNTYFP\", \"TRACTCE\", \"GEOID\", \"geometry\", \"C17002_001E\", \"C17002_002E\", \"C17002_003E\", \"B01003_001E\"]]\n",
    "\n",
    "# Show dataframe\n",
    "print(ny_poverty_tract.head(5))\n",
    "print('Shape: ', ny_poverty_tract.shape)"
   ]
  },
  {
   "cell_type": "markdown",
   "metadata": {},
   "source": [
    "Notice how the number of columns dropped from 18 to 9.\n",
    "\n",
    "## Step 9: Dissolve geometries and get summarized statistics to get poverty statistics at the county level\n",
    "\n",
    "Next, we will group all the census tracts within the same county (<span style=\"color:red\">COUNTYFP</span>) and aggregate the poverty and population values for those tracts within the same county. We can use the <span style=\"color:red\">dissolve</span> function in <span style=\"color:red\">GeoPandas</span>, which is the spatial version of <span style=\"color:red\">groupby</span> in pandas. We use <span style=\"color:red\">dissolve</span> instead of <span style=\"color:red\">groupby</span> because the former also groups and merges all the geometries (i.e. census tracts) within a given group (i.e. counties)."
   ]
  },
  {
   "cell_type": "code",
   "execution_count": 16,
   "metadata": {},
   "outputs": [
    {
     "name": "stdout",
     "output_type": "stream",
     "text": [
      "                                                   geometry  C17002_001E  \\\n",
      "COUNTYFP                                                                   \n",
      "001       POLYGON ((560480.589 4696656.581, 560491.195 4...     291149.0   \n",
      "003       POLYGON ((274228.780 4683036.881, 274189.135 4...      41742.0   \n",
      "005       POLYGON ((595574.428 4516478.243, 595317.874 4...    1400341.0   \n",
      "007       POLYGON ((408422.127 4653589.128, 408425.735 4...     183481.0   \n",
      "009       POLYGON ((226484.953 4668445.498, 226464.520 4...      74679.0   \n",
      "\n",
      "          C17002_002E  C17002_003E  B01003_001E  \n",
      "COUNTYFP                                         \n",
      "001           17954.0      16616.0     306968.0  \n",
      "003            2752.0       4295.0      46688.0  \n",
      "005          174759.0     217413.0    1435068.0  \n",
      "007           15558.0      16387.0     193188.0  \n",
      "009            4960.0       7364.0      77121.0  \n",
      "Shape:  (62, 5)\n"
     ]
    }
   ],
   "source": [
    "# Dissolve and group the census tracts within each county and aggregate all the values together\n",
    "# Source: https://geopandas.org/docs/user_guide/aggregation_with_dissolve.html\n",
    "ny_poverty_county = ny_poverty_tract.dissolve(by = 'COUNTYFP', aggfunc = 'sum')\n",
    "\n",
    "# Show dataframe\n",
    "print(ny_poverty_county.head(5))\n",
    "print('Shape: ', ny_poverty_county.shape)"
   ]
  },
  {
   "cell_type": "markdown",
   "metadata": {},
   "source": [
    "Notice that we got the number of rows down from 4918 to 62.\n",
    "\n",
    "## Step 10: Perform column math to get poverty rates\n",
    "\n",
    "We can estimate the poverty rate by dividing the sum of <b>C17002_002E</b> (ratio of income to poverty in the past 12 months, < 0.50) and <b>C17002_003E</b> (ratio of income to poverty in the past 12 months, 0.50 - 0.99) by <b>B01003_001E</b> (total population).\n",
    "\n",
    "Side note: Notice that <b>C17002_001E</b> (ratio of income to poverty in the past 12 months, total), which theoretically should count everyone, does not exactly match up with <b>B01003_001E</b> (total population). We’ll disregard this for now since the difference is not too significant."
   ]
  },
  {
   "cell_type": "code",
   "execution_count": 17,
   "metadata": {},
   "outputs": [
    {
     "data": {
      "text/html": [
       "<div>\n",
       "<style scoped>\n",
       "    .dataframe tbody tr th:only-of-type {\n",
       "        vertical-align: middle;\n",
       "    }\n",
       "\n",
       "    .dataframe tbody tr th {\n",
       "        vertical-align: top;\n",
       "    }\n",
       "\n",
       "    .dataframe thead th {\n",
       "        text-align: right;\n",
       "    }\n",
       "</style>\n",
       "<table border=\"1\" class=\"dataframe\">\n",
       "  <thead>\n",
       "    <tr style=\"text-align: right;\">\n",
       "      <th></th>\n",
       "      <th>geometry</th>\n",
       "      <th>C17002_001E</th>\n",
       "      <th>C17002_002E</th>\n",
       "      <th>C17002_003E</th>\n",
       "      <th>B01003_001E</th>\n",
       "      <th>Poverty_Rate</th>\n",
       "    </tr>\n",
       "    <tr>\n",
       "      <th>COUNTYFP</th>\n",
       "      <th></th>\n",
       "      <th></th>\n",
       "      <th></th>\n",
       "      <th></th>\n",
       "      <th></th>\n",
       "      <th></th>\n",
       "    </tr>\n",
       "  </thead>\n",
       "  <tbody>\n",
       "    <tr>\n",
       "      <th>001</th>\n",
       "      <td>POLYGON ((560480.589 4696656.581, 560491.195 4...</td>\n",
       "      <td>291149.0</td>\n",
       "      <td>17954.0</td>\n",
       "      <td>16616.0</td>\n",
       "      <td>306968.0</td>\n",
       "      <td>11.261760</td>\n",
       "    </tr>\n",
       "    <tr>\n",
       "      <th>003</th>\n",
       "      <td>POLYGON ((274228.780 4683036.881, 274189.135 4...</td>\n",
       "      <td>41742.0</td>\n",
       "      <td>2752.0</td>\n",
       "      <td>4295.0</td>\n",
       "      <td>46688.0</td>\n",
       "      <td>15.093814</td>\n",
       "    </tr>\n",
       "    <tr>\n",
       "      <th>005</th>\n",
       "      <td>POLYGON ((595574.428 4516478.243, 595317.874 4...</td>\n",
       "      <td>1400341.0</td>\n",
       "      <td>174759.0</td>\n",
       "      <td>217413.0</td>\n",
       "      <td>1435068.0</td>\n",
       "      <td>27.327764</td>\n",
       "    </tr>\n",
       "    <tr>\n",
       "      <th>007</th>\n",
       "      <td>POLYGON ((408422.127 4653589.128, 408425.735 4...</td>\n",
       "      <td>183481.0</td>\n",
       "      <td>15558.0</td>\n",
       "      <td>16387.0</td>\n",
       "      <td>193188.0</td>\n",
       "      <td>16.535706</td>\n",
       "    </tr>\n",
       "    <tr>\n",
       "      <th>009</th>\n",
       "      <td>POLYGON ((226484.953 4668445.498, 226464.520 4...</td>\n",
       "      <td>74679.0</td>\n",
       "      <td>4960.0</td>\n",
       "      <td>7364.0</td>\n",
       "      <td>77121.0</td>\n",
       "      <td>15.980083</td>\n",
       "    </tr>\n",
       "  </tbody>\n",
       "</table>\n",
       "</div>"
      ],
      "text/plain": [
       "                                                   geometry  C17002_001E  \\\n",
       "COUNTYFP                                                                   \n",
       "001       POLYGON ((560480.589 4696656.581, 560491.195 4...     291149.0   \n",
       "003       POLYGON ((274228.780 4683036.881, 274189.135 4...      41742.0   \n",
       "005       POLYGON ((595574.428 4516478.243, 595317.874 4...    1400341.0   \n",
       "007       POLYGON ((408422.127 4653589.128, 408425.735 4...     183481.0   \n",
       "009       POLYGON ((226484.953 4668445.498, 226464.520 4...      74679.0   \n",
       "\n",
       "          C17002_002E  C17002_003E  B01003_001E  Poverty_Rate  \n",
       "COUNTYFP                                                       \n",
       "001           17954.0      16616.0     306968.0     11.261760  \n",
       "003            2752.0       4295.0      46688.0     15.093814  \n",
       "005          174759.0     217413.0    1435068.0     27.327764  \n",
       "007           15558.0      16387.0     193188.0     16.535706  \n",
       "009            4960.0       7364.0      77121.0     15.980083  "
      ]
     },
     "execution_count": 17,
     "metadata": {},
     "output_type": "execute_result"
    }
   ],
   "source": [
    "# Get poverty rate and store values in new column\n",
    "ny_poverty_county[\"Poverty_Rate\"] = (ny_poverty_county[\"C17002_002E\"] + ny_poverty_county[\"C17002_003E\"]) / ny_poverty_county[\"B01003_001E\"] * 100\n",
    "\n",
    "# Show dataframe\n",
    "ny_poverty_county.head(5)"
   ]
  },
  {
   "cell_type": "markdown",
   "metadata": {},
   "source": [
    "## Step 11: Plotting Results\n",
    "\n",
    "Finally, since we have the spatial component connected to our census data, we can plot the results! Note: You can change the color palette by changing the value of the color map (<span style=\"color:red\">cmap</span>).  You can find a list [here](https://matplotlib.org/stable/tutorials/colors/colormaps.html)."
   ]
  },
  {
   "cell_type": "code",
   "execution_count": 18,
   "metadata": {
    "scrolled": true
   },
   "outputs": [
    {
     "data": {
      "text/plain": [
       "Text(0.5, 1.0, 'Poverty Rates (%) in New York State (2020 American Community Survey)')"
      ]
     },
     "execution_count": 18,
     "metadata": {},
     "output_type": "execute_result"
    },
    {
     "data": {
      "image/png": "[encoded data removed]",
      "text/plain": [
       "<Figure size 2000x1000 with 2 Axes>"
      ]
     },
     "metadata": {},
     "output_type": "display_data"
    }
   ],
   "source": [
    "# Create subplots\n",
    "fig, ax = plt.subplots(1, 1, figsize = (20, 10))\n",
    "\n",
    "# Plot data\n",
    "# Source: https://geopandas.readthedocs.io/en/latest/docs/user_guide/mapping.html\n",
    "ny_poverty_county.plot(column = \"Poverty_Rate\",\n",
    "                       ax = ax,\n",
    "                       cmap = \"coolwarm\",\n",
    "                       legend = True)\n",
    "\n",
    "# Stylize plots\n",
    "plt.style.use('bmh')\n",
    "\n",
    "# Set title\n",
    "ax.set_title('Poverty Rates (%) in New York State (2020 American Community Survey)', fontdict = {'fontsize': '18', 'fontweight' : '3'})"
   ]
  },
  {
   "cell_type": "markdown",
   "metadata": {},
   "source": [
    "## Step 12: Write your data to a shapefile\n",
    "\n",
    "Now that you've done all this great work, you will want to export it as a file.  We can use the <span style=\"color:red\">gpd.to_file()</span> function for this.  I'll be using shapefiles (since this is the default output file format), but you can use export to a database/online repository as well, and change the file format to other compatible ones by typing in <span style=\"color:red\">fiona.supported_drivers</span> into a code line.\n",
    "\n",
    "First, you will want to create an output path to store your data if one does not exist.  If does exist, you will overwrite that directory.  Doing so is not automatic--you will need to set the parameter <span style=\"color:red\">exist_ok = True</span> to suppress the error message and overwrite the directory.  NOTE: For simplicity, I just created a directory the old fashioned way.\n",
    "\n",
    "Then, you will want to set up some error handling to make sure the file directory is created.  When an error(exception) occurs, Python will generate an error message and the program will crash.  We can handle these errors using the <span style=\"color:red\">try</span> statement. This way, instead of the program crashing, the <span style=\"color:red\">except</span> block will be executed.  You can define as many exception blocks as you'd like.  You can use <span style=\"color:red\">else</span> to define code to be executed if no errors are raised.  Another good practice is to define a <span style=\"color:red\">finally</span> block, which will be executed regardless of any error.  <span style=\"color:red\">Finally</span> is often used to clean up resources and close objects when the script is done. \n",
    "\n",
    "After that, just write the file to the directory.  The variable <span style=\"color:red\">ny_poverty_county</span> contains all the data we want to export, so we will replace \"gpd\" with \"ny_poverty_county\" to get <span style=\"color:red\">ny_poverty_county.to_file</span>.  NOTE: I needed to use the <span style=\"color:red\">encoding='utf-8'</span> parameter.  I've not seen this in all code samples, so be aware that you might need this as well.\n",
    "\n",
    "You may be wondering what the text highlighted in pink is below.  Its not an error--its just a message warning you that the column names have been shortened because shapefiles only support 13 character field names.  If that is all you see, then that means your file has written successfully!\n",
    "\n",
    "### <span style=\"color:green\">Note: You will need to add a directory location to get this to work.  I've removed mine below.</span>"
   ]
  },
  {
   "cell_type": "code",
   "execution_count": 19,
   "metadata": {
    "scrolled": false
   },
   "outputs": [
    {
     "name": "stderr",
     "output_type": "stream",
     "text": [
      "C:\\Users\\mromano1\\AppData\\Local\\Temp\\ipykernel_30684\\380519530.py:5: UserWarning: Column names longer than 10 characters will be truncated when saved to ESRI Shapefile.\n",
      "  ny_poverty_county.to_file(r\"\\\\dotfp\\40Worth_DatafilesII\\Administrative_Guide\\PMA\\Maddalena Romano\\Census API Equity Analysis\\Poverty Rates in NYS 2019 v3.shp\", encoding='utf-8')\n"
     ]
    },
    {
     "name": "stdout",
     "output_type": "stream",
     "text": [
      "File successfully written to directory\n"
     ]
    }
   ],
   "source": [
    "# Create a output path for the data\n",
    "# Write data to shapefile\n",
    "\n",
    "try:\n",
    "    ny_poverty_county.to_file(r\"\\\\Enter your directory and shapefile location here\", encoding='utf-8')\n",
    "    print(\"File successfully written to directory\")\n",
    "except OSError as error:\n",
    "    print (\"File cannot be written to directory\")\n"
   ]
  },
  {
   "cell_type": "markdown",
   "metadata": {},
   "source": [
    "# Thanks for giving me the opportunity to teach you all!  I hope you enjoyed it!"
   ]
  }
 ],
 "metadata": {
  "kernelspec": {
   "display_name": "Python 3 (ipykernel)",
   "language": "python",
   "name": "python3"
  },
  "language_info": {
   "codemirror_mode": {
    "name": "ipython",
    "version": 3
   },
   "file_extension": ".py",
   "mimetype": "text/x-python",
   "name": "python",
   "nbconvert_exporter": "python",
   "pygments_lexer": "ipython3",
   "version": "3.9.13"
  }
 },
 "nbformat": 4,
 "nbformat_minor": 2
}
